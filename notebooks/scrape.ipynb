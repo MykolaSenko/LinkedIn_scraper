{
 "cells": [
  {
   "cell_type": "markdown",
   "metadata": {},
   "source": [
    "Importing dependencies"
   ]
  },
  {
   "cell_type": "code",
   "execution_count": 1,
   "metadata": {},
   "outputs": [],
   "source": [
    "from selenium import webdriver\n",
    "from selenium.webdriver.chrome.options import Options\n",
    "from selenium.webdriver.common.keys import Keys\n",
    "from selenium.webdriver.common.by import By\n",
    "from pathlib import Path\n",
    "from selenium.webdriver.support.ui import WebDriverWait\n",
    "from selenium.webdriver.support import expected_conditions as EC  \n",
    "import json\n",
    "import js2py\n",
    "import time"
   ]
  },
  {
   "cell_type": "markdown",
   "metadata": {},
   "source": []
  },
  {
   "cell_type": "code",
   "execution_count": 2,
   "metadata": {},
   "outputs": [],
   "source": [
    "options = Options()\n",
    "options.add_experimental_option(\"detach\", True)\n",
    "#driver_path = Path.cwd().parent / \"x_env\" / \"bin\" / \"chromedriver\"\n",
    "driver = webdriver.Chrome(options=options)\n",
    "driver.set_window_size(1400, 1400)\n"
   ]
  },
  {
   "cell_type": "markdown",
   "metadata": {},
   "source": []
  },
  {
   "cell_type": "code",
   "execution_count": 3,
   "metadata": {},
   "outputs": [],
   "source": [
    "driver.get(\"http://www.linkedin.com/home\")"
   ]
  },
  {
   "cell_type": "markdown",
   "metadata": {},
   "source": []
  },
  {
   "cell_type": "code",
   "execution_count": 4,
   "metadata": {},
   "outputs": [],
   "source": [
    "wait = WebDriverWait(driver, 20)\n",
    "\n",
    "# Define some functions\n",
    "def click(path):\n",
    "    wait.until(EC.element_to_be_clickable((By.XPATH, path))).click()\n",
    "\n",
    "def send_keys(path, *args):\n",
    "    for arg in args:\n",
    "        wait.until(EC.presence_of_element_located((By.XPATH, path))).send_keys(arg)"
   ]
  },
  {
   "cell_type": "markdown",
   "metadata": {},
   "source": []
  },
  {
   "cell_type": "code",
   "execution_count": 5,
   "metadata": {},
   "outputs": [],
   "source": [
    "credentials_path = Path.cwd().parent / \"linkedin_credentials.json\"\n",
    "linkedin_credentials = json.load(open(credentials_path))\n",
    "username = linkedin_credentials['username']\n",
    "password = linkedin_credentials['password']\n",
    "\n",
    "send_keys('//input[@id=\"session_key\"]', username)\n",
    "send_keys('//input[@id=\"session_password\"]', password)\n",
    "\n",
    "\n",
    "click(\"//button[@data-id='sign-in-form__submit-btn']\")\n"
   ]
  },
  {
   "cell_type": "markdown",
   "metadata": {},
   "source": []
  },
  {
   "cell_type": "code",
   "execution_count": 6,
   "metadata": {},
   "outputs": [],
   "source": [
    "# Search word\n",
    "word = \"autonomous vehicles\"\n",
    "search_bar_path = \"/html/body/div[6]/header/div/div/div/div[1]/input\"\n",
    "send_keys(search_bar_path, word, Keys.RETURN)"
   ]
  },
  {
   "cell_type": "markdown",
   "metadata": {},
   "source": []
  },
  {
   "cell_type": "code",
   "execution_count": 7,
   "metadata": {},
   "outputs": [],
   "source": [
    "# Scroll down to bottom\n",
    "number_of_posts = 10\n",
    "x = 0\n",
    "while x < number_of_posts:\n",
    "    driver.execute_script(\"window.scrollTo(0, document.body.scrollHeight);\")\n",
    "    time.sleep(5)\n",
    "    x = x + 1"
   ]
  },
  {
   "cell_type": "markdown",
   "metadata": {},
   "source": []
  },
  {
   "cell_type": "code",
   "execution_count": 8,
   "metadata": {},
   "outputs": [],
   "source": [
    "\n",
    "\n",
    "    # copyright: https://github.com/Ollie-Boyd/Linkedin-post-timestamp-extractor\n",
    "js_function = js2py.eval_js( \"\"\"function extractUnixTimestamp(postId) {\n",
    "const asBinary = postId.toString(2);\n",
    "const first41Chars = asBinary.slice(0, 41);\n",
    "const timestamp = parseInt(first41Chars, 2);\n",
    "const dateObject = new Date(timestamp);\n",
    "const humanDateFormat = dateObject.toUTCString();\n",
    "return humanDateFormat;\n",
    "}\"\"\" )"
   ]
  }
 ],
 "metadata": {
  "kernelspec": {
   "display_name": "x_env",
   "language": "python",
   "name": "python3"
  },
  "language_info": {
   "codemirror_mode": {
    "name": "ipython",
    "version": 3
   },
   "file_extension": ".py",
   "mimetype": "text/x-python",
   "name": "python",
   "nbconvert_exporter": "python",
   "pygments_lexer": "ipython3",
   "version": "3.10.12"
  }
 },
 "nbformat": 4,
 "nbformat_minor": 2
}
